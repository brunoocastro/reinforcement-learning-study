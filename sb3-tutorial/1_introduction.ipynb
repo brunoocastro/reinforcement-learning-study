{
 "cells": [
  {
   "cell_type": "markdown",
   "metadata": {},
   "source": [
    "# Stable Baselines 3 - Tutorial\n",
    "\n",
    "Github repo: https://github.com/araffin/rl-tutorial-jnrr19/tree/sb3/\n",
    "\n",
    "Stable-Baselines3: https://github.com/DLR-RM/stable-baselines3\n",
    "\n",
    "Documentation: https://stable-baselines3.readthedocs.io/en/master/\n",
    "\n",
    "### Introduction\n",
    "\n",
    "Learning how to create a RL model, train it and evaluate it."
   ]
  },
  {
   "cell_type": "code",
   "execution_count": 4,
   "metadata": {},
   "outputs": [],
   "source": [
    "# for autoformatting\n",
    "# %load_ext jupyter_black"
   ]
  },
  {
   "cell_type": "code",
   "execution_count": 9,
   "metadata": {},
   "outputs": [
    {
     "name": "stdout",
     "output_type": "stream",
     "text": [
      "E: Could not open lock file /var/lib/dpkg/lock-frontend - open (13: Permission denied)\n",
      "E: Unable to acquire the dpkg frontend lock (/var/lib/dpkg/lock-frontend), are you root?\n",
      "Defaulting to user installation because normal site-packages is not writeable\n",
      "Requirement already satisfied: stable-baselines3>=2.0.0.0a4 in /home/tone/.local/lib/python3.10/site-packages (from stable-baselines3[extra]>=2.0.0.0a4) (2.3.0a1)\n",
      "Requirement already satisfied: gymnasium<0.30,>=0.28.1 in /home/tone/.local/lib/python3.10/site-packages (from stable-baselines3>=2.0.0.0a4->stable-baselines3[extra]>=2.0.0.0a4) (0.29.1)\n",
      "Requirement already satisfied: numpy>=1.20 in /home/tone/.local/lib/python3.10/site-packages (from stable-baselines3>=2.0.0.0a4->stable-baselines3[extra]>=2.0.0.0a4) (1.25.2)\n",
      "Requirement already satisfied: torch>=1.13 in /home/tone/.local/lib/python3.10/site-packages (from stable-baselines3>=2.0.0.0a4->stable-baselines3[extra]>=2.0.0.0a4) (2.1.2)\n",
      "Requirement already satisfied: cloudpickle in /home/tone/.local/lib/python3.10/site-packages (from stable-baselines3>=2.0.0.0a4->stable-baselines3[extra]>=2.0.0.0a4) (3.0.0)\n",
      "Requirement already satisfied: pandas in /home/tone/.local/lib/python3.10/site-packages (from stable-baselines3>=2.0.0.0a4->stable-baselines3[extra]>=2.0.0.0a4) (2.0.3)\n",
      "Requirement already satisfied: matplotlib in /home/tone/.local/lib/python3.10/site-packages (from stable-baselines3>=2.0.0.0a4->stable-baselines3[extra]>=2.0.0.0a4) (3.8.2)\n",
      "Requirement already satisfied: opencv-python in /home/tone/.local/lib/python3.10/site-packages (from stable-baselines3[extra]>=2.0.0.0a4) (4.9.0.80)\n",
      "Requirement already satisfied: pygame in /home/tone/.local/lib/python3.10/site-packages (from stable-baselines3[extra]>=2.0.0.0a4) (2.5.0)\n",
      "Requirement already satisfied: tensorboard>=2.9.1 in /home/tone/.local/lib/python3.10/site-packages (from stable-baselines3[extra]>=2.0.0.0a4) (2.15.1)\n",
      "Requirement already satisfied: psutil in /home/tone/.local/lib/python3.10/site-packages (from stable-baselines3[extra]>=2.0.0.0a4) (5.9.5)\n",
      "Requirement already satisfied: tqdm in /home/tone/.local/lib/python3.10/site-packages (from stable-baselines3[extra]>=2.0.0.0a4) (4.65.0)\n",
      "Requirement already satisfied: rich in /home/tone/.local/lib/python3.10/site-packages (from stable-baselines3[extra]>=2.0.0.0a4) (13.7.0)\n",
      "Requirement already satisfied: shimmy~=1.3.0 in /home/tone/.local/lib/python3.10/site-packages (from shimmy[atari]~=1.3.0; extra == \"extra\"->stable-baselines3[extra]>=2.0.0.0a4) (1.3.0)\n",
      "Requirement already satisfied: pillow in /usr/lib/python3/dist-packages (from stable-baselines3[extra]>=2.0.0.0a4) (9.0.1)\n",
      "Requirement already satisfied: autorom~=0.6.1 in /home/tone/.local/lib/python3.10/site-packages (from autorom[accept-rom-license]~=0.6.1; extra == \"extra\"->stable-baselines3[extra]>=2.0.0.0a4) (0.6.1)\n",
      "Requirement already satisfied: click in /usr/lib/python3/dist-packages (from autorom~=0.6.1->autorom[accept-rom-license]~=0.6.1; extra == \"extra\"->stable-baselines3[extra]>=2.0.0.0a4) (8.0.3)\n",
      "Requirement already satisfied: requests in /home/tone/.local/lib/python3.10/site-packages (from autorom~=0.6.1->autorom[accept-rom-license]~=0.6.1; extra == \"extra\"->stable-baselines3[extra]>=2.0.0.0a4) (2.31.0)\n",
      "Requirement already satisfied: AutoROM.accept-rom-license in /home/tone/.local/lib/python3.10/site-packages (from autorom[accept-rom-license]~=0.6.1; extra == \"extra\"->stable-baselines3[extra]>=2.0.0.0a4) (0.6.1)\n",
      "Requirement already satisfied: typing-extensions>=4.3.0 in /home/tone/.local/lib/python3.10/site-packages (from gymnasium<0.30,>=0.28.1->stable-baselines3>=2.0.0.0a4->stable-baselines3[extra]>=2.0.0.0a4) (4.5.0)\n",
      "Requirement already satisfied: farama-notifications>=0.0.1 in /home/tone/.local/lib/python3.10/site-packages (from gymnasium<0.30,>=0.28.1->stable-baselines3>=2.0.0.0a4->stable-baselines3[extra]>=2.0.0.0a4) (0.0.4)\n",
      "Requirement already satisfied: ale-py~=0.8.1 in /home/tone/.local/lib/python3.10/site-packages (from shimmy[atari]~=1.3.0; extra == \"extra\"->stable-baselines3[extra]>=2.0.0.0a4) (0.8.1)\n",
      "Requirement already satisfied: absl-py>=0.4 in /home/tone/.local/lib/python3.10/site-packages (from tensorboard>=2.9.1->stable-baselines3[extra]>=2.0.0.0a4) (2.1.0)\n",
      "Requirement already satisfied: grpcio>=1.48.2 in /home/tone/.local/lib/python3.10/site-packages (from tensorboard>=2.9.1->stable-baselines3[extra]>=2.0.0.0a4) (1.60.0)\n",
      "Requirement already satisfied: google-auth<3,>=1.6.3 in /home/tone/.local/lib/python3.10/site-packages (from tensorboard>=2.9.1->stable-baselines3[extra]>=2.0.0.0a4) (2.27.0)\n",
      "Requirement already satisfied: google-auth-oauthlib<2,>=0.5 in /home/tone/.local/lib/python3.10/site-packages (from tensorboard>=2.9.1->stable-baselines3[extra]>=2.0.0.0a4) (1.2.0)\n",
      "Requirement already satisfied: markdown>=2.6.8 in /home/tone/.local/lib/python3.10/site-packages (from tensorboard>=2.9.1->stable-baselines3[extra]>=2.0.0.0a4) (3.5.2)\n",
      "Requirement already satisfied: protobuf<4.24,>=3.19.6 in /home/tone/.local/lib/python3.10/site-packages (from tensorboard>=2.9.1->stable-baselines3[extra]>=2.0.0.0a4) (4.23.4)\n",
      "Requirement already satisfied: setuptools>=41.0.0 in /usr/lib/python3/dist-packages (from tensorboard>=2.9.1->stable-baselines3[extra]>=2.0.0.0a4) (59.6.0)\n",
      "Requirement already satisfied: six>1.9 in /usr/lib/python3/dist-packages (from tensorboard>=2.9.1->stable-baselines3[extra]>=2.0.0.0a4) (1.16.0)\n",
      "Requirement already satisfied: tensorboard-data-server<0.8.0,>=0.7.0 in /home/tone/.local/lib/python3.10/site-packages (from tensorboard>=2.9.1->stable-baselines3[extra]>=2.0.0.0a4) (0.7.2)\n",
      "Requirement already satisfied: werkzeug>=1.0.1 in /home/tone/.local/lib/python3.10/site-packages (from tensorboard>=2.9.1->stable-baselines3[extra]>=2.0.0.0a4) (3.0.1)\n",
      "Requirement already satisfied: filelock in /home/tone/.local/lib/python3.10/site-packages (from torch>=1.13->stable-baselines3>=2.0.0.0a4->stable-baselines3[extra]>=2.0.0.0a4) (3.13.1)\n",
      "Requirement already satisfied: sympy in /home/tone/.local/lib/python3.10/site-packages (from torch>=1.13->stable-baselines3>=2.0.0.0a4->stable-baselines3[extra]>=2.0.0.0a4) (1.12)\n",
      "Requirement already satisfied: networkx in /home/tone/.local/lib/python3.10/site-packages (from torch>=1.13->stable-baselines3>=2.0.0.0a4->stable-baselines3[extra]>=2.0.0.0a4) (3.2.1)\n",
      "Requirement already satisfied: jinja2 in /home/tone/.local/lib/python3.10/site-packages (from torch>=1.13->stable-baselines3>=2.0.0.0a4->stable-baselines3[extra]>=2.0.0.0a4) (3.1.3)\n",
      "Requirement already satisfied: fsspec in /home/tone/.local/lib/python3.10/site-packages (from torch>=1.13->stable-baselines3>=2.0.0.0a4->stable-baselines3[extra]>=2.0.0.0a4) (2023.6.0)\n",
      "Requirement already satisfied: nvidia-cuda-nvrtc-cu12==12.1.105 in /home/tone/.local/lib/python3.10/site-packages (from torch>=1.13->stable-baselines3>=2.0.0.0a4->stable-baselines3[extra]>=2.0.0.0a4) (12.1.105)\n",
      "Requirement already satisfied: nvidia-cuda-runtime-cu12==12.1.105 in /home/tone/.local/lib/python3.10/site-packages (from torch>=1.13->stable-baselines3>=2.0.0.0a4->stable-baselines3[extra]>=2.0.0.0a4) (12.1.105)\n",
      "Requirement already satisfied: nvidia-cuda-cupti-cu12==12.1.105 in /home/tone/.local/lib/python3.10/site-packages (from torch>=1.13->stable-baselines3>=2.0.0.0a4->stable-baselines3[extra]>=2.0.0.0a4) (12.1.105)\n",
      "Requirement already satisfied: nvidia-cudnn-cu12==8.9.2.26 in /home/tone/.local/lib/python3.10/site-packages (from torch>=1.13->stable-baselines3>=2.0.0.0a4->stable-baselines3[extra]>=2.0.0.0a4) (8.9.2.26)\n",
      "Requirement already satisfied: nvidia-cublas-cu12==12.1.3.1 in /home/tone/.local/lib/python3.10/site-packages (from torch>=1.13->stable-baselines3>=2.0.0.0a4->stable-baselines3[extra]>=2.0.0.0a4) (12.1.3.1)\n",
      "Requirement already satisfied: nvidia-cufft-cu12==11.0.2.54 in /home/tone/.local/lib/python3.10/site-packages (from torch>=1.13->stable-baselines3>=2.0.0.0a4->stable-baselines3[extra]>=2.0.0.0a4) (11.0.2.54)\n",
      "Requirement already satisfied: nvidia-curand-cu12==10.3.2.106 in /home/tone/.local/lib/python3.10/site-packages (from torch>=1.13->stable-baselines3>=2.0.0.0a4->stable-baselines3[extra]>=2.0.0.0a4) (10.3.2.106)\n",
      "Requirement already satisfied: nvidia-cusolver-cu12==11.4.5.107 in /home/tone/.local/lib/python3.10/site-packages (from torch>=1.13->stable-baselines3>=2.0.0.0a4->stable-baselines3[extra]>=2.0.0.0a4) (11.4.5.107)\n",
      "Requirement already satisfied: nvidia-cusparse-cu12==12.1.0.106 in /home/tone/.local/lib/python3.10/site-packages (from torch>=1.13->stable-baselines3>=2.0.0.0a4->stable-baselines3[extra]>=2.0.0.0a4) (12.1.0.106)\n",
      "Requirement already satisfied: nvidia-nccl-cu12==2.18.1 in /home/tone/.local/lib/python3.10/site-packages (from torch>=1.13->stable-baselines3>=2.0.0.0a4->stable-baselines3[extra]>=2.0.0.0a4) (2.18.1)\n",
      "Requirement already satisfied: nvidia-nvtx-cu12==12.1.105 in /home/tone/.local/lib/python3.10/site-packages (from torch>=1.13->stable-baselines3>=2.0.0.0a4->stable-baselines3[extra]>=2.0.0.0a4) (12.1.105)\n",
      "Requirement already satisfied: triton==2.1.0 in /home/tone/.local/lib/python3.10/site-packages (from torch>=1.13->stable-baselines3>=2.0.0.0a4->stable-baselines3[extra]>=2.0.0.0a4) (2.1.0)\n",
      "Requirement already satisfied: nvidia-nvjitlink-cu12 in /home/tone/.local/lib/python3.10/site-packages (from nvidia-cusolver-cu12==11.4.5.107->torch>=1.13->stable-baselines3>=2.0.0.0a4->stable-baselines3[extra]>=2.0.0.0a4) (12.3.101)\n",
      "Requirement already satisfied: contourpy>=1.0.1 in /home/tone/.local/lib/python3.10/site-packages (from matplotlib->stable-baselines3>=2.0.0.0a4->stable-baselines3[extra]>=2.0.0.0a4) (1.2.0)\n",
      "Requirement already satisfied: cycler>=0.10 in /home/tone/.local/lib/python3.10/site-packages (from matplotlib->stable-baselines3>=2.0.0.0a4->stable-baselines3[extra]>=2.0.0.0a4) (0.12.1)\n",
      "Requirement already satisfied: fonttools>=4.22.0 in /home/tone/.local/lib/python3.10/site-packages (from matplotlib->stable-baselines3>=2.0.0.0a4->stable-baselines3[extra]>=2.0.0.0a4) (4.47.2)\n",
      "Requirement already satisfied: kiwisolver>=1.3.1 in /home/tone/.local/lib/python3.10/site-packages (from matplotlib->stable-baselines3>=2.0.0.0a4->stable-baselines3[extra]>=2.0.0.0a4) (1.4.5)\n",
      "Requirement already satisfied: packaging>=20.0 in /home/tone/.local/lib/python3.10/site-packages (from matplotlib->stable-baselines3>=2.0.0.0a4->stable-baselines3[extra]>=2.0.0.0a4) (23.1)\n",
      "Requirement already satisfied: pyparsing>=2.3.1 in /usr/lib/python3/dist-packages (from matplotlib->stable-baselines3>=2.0.0.0a4->stable-baselines3[extra]>=2.0.0.0a4) (2.4.7)\n",
      "Requirement already satisfied: python-dateutil>=2.7 in /home/tone/.local/lib/python3.10/site-packages (from matplotlib->stable-baselines3>=2.0.0.0a4->stable-baselines3[extra]>=2.0.0.0a4) (2.8.2)\n",
      "Requirement already satisfied: pytz>=2020.1 in /usr/lib/python3/dist-packages (from pandas->stable-baselines3>=2.0.0.0a4->stable-baselines3[extra]>=2.0.0.0a4) (2022.1)\n",
      "Requirement already satisfied: tzdata>=2022.1 in /home/tone/.local/lib/python3.10/site-packages (from pandas->stable-baselines3>=2.0.0.0a4->stable-baselines3[extra]>=2.0.0.0a4) (2023.3)\n",
      "Requirement already satisfied: markdown-it-py>=2.2.0 in /home/tone/.local/lib/python3.10/site-packages (from rich->stable-baselines3[extra]>=2.0.0.0a4) (3.0.0)\n",
      "Requirement already satisfied: pygments<3.0.0,>=2.13.0 in /home/tone/.local/lib/python3.10/site-packages (from rich->stable-baselines3[extra]>=2.0.0.0a4) (2.16.1)\n",
      "Requirement already satisfied: importlib-resources in /home/tone/.local/lib/python3.10/site-packages (from ale-py~=0.8.1->shimmy[atari]~=1.3.0; extra == \"extra\"->stable-baselines3[extra]>=2.0.0.0a4) (6.1.1)\n",
      "Requirement already satisfied: cachetools<6.0,>=2.0.0 in /home/tone/.local/lib/python3.10/site-packages (from google-auth<3,>=1.6.3->tensorboard>=2.9.1->stable-baselines3[extra]>=2.0.0.0a4) (5.3.2)\n",
      "Requirement already satisfied: pyasn1-modules>=0.2.1 in /home/tone/.local/lib/python3.10/site-packages (from google-auth<3,>=1.6.3->tensorboard>=2.9.1->stable-baselines3[extra]>=2.0.0.0a4) (0.3.0)\n",
      "Requirement already satisfied: rsa<5,>=3.1.4 in /usr/lib/python3/dist-packages (from google-auth<3,>=1.6.3->tensorboard>=2.9.1->stable-baselines3[extra]>=2.0.0.0a4) (4.8)\n",
      "Requirement already satisfied: requests-oauthlib>=0.7.0 in /home/tone/.local/lib/python3.10/site-packages (from google-auth-oauthlib<2,>=0.5->tensorboard>=2.9.1->stable-baselines3[extra]>=2.0.0.0a4) (1.3.1)\n",
      "Requirement already satisfied: mdurl~=0.1 in /home/tone/.local/lib/python3.10/site-packages (from markdown-it-py>=2.2.0->rich->stable-baselines3[extra]>=2.0.0.0a4) (0.1.2)\n",
      "Requirement already satisfied: charset-normalizer<4,>=2 in /home/tone/.local/lib/python3.10/site-packages (from requests->autorom~=0.6.1->autorom[accept-rom-license]~=0.6.1; extra == \"extra\"->stable-baselines3[extra]>=2.0.0.0a4) (3.2.0)\n",
      "Requirement already satisfied: idna<4,>=2.5 in /usr/lib/python3/dist-packages (from requests->autorom~=0.6.1->autorom[accept-rom-license]~=0.6.1; extra == \"extra\"->stable-baselines3[extra]>=2.0.0.0a4) (3.3)\n",
      "Requirement already satisfied: urllib3<3,>=1.21.1 in /home/tone/.local/lib/python3.10/site-packages (from requests->autorom~=0.6.1->autorom[accept-rom-license]~=0.6.1; extra == \"extra\"->stable-baselines3[extra]>=2.0.0.0a4) (1.26.15)\n",
      "Requirement already satisfied: certifi>=2017.4.17 in /usr/lib/python3/dist-packages (from requests->autorom~=0.6.1->autorom[accept-rom-license]~=0.6.1; extra == \"extra\"->stable-baselines3[extra]>=2.0.0.0a4) (2020.6.20)\n",
      "Requirement already satisfied: MarkupSafe>=2.1.1 in /home/tone/.local/lib/python3.10/site-packages (from werkzeug>=1.0.1->tensorboard>=2.9.1->stable-baselines3[extra]>=2.0.0.0a4) (2.1.4)\n",
      "Requirement already satisfied: mpmath>=0.19 in /home/tone/.local/lib/python3.10/site-packages (from sympy->torch>=1.13->stable-baselines3>=2.0.0.0a4->stable-baselines3[extra]>=2.0.0.0a4) (1.3.0)\n",
      "Requirement already satisfied: pyasn1<0.6.0,>=0.4.6 in /usr/lib/python3/dist-packages (from pyasn1-modules>=0.2.1->google-auth<3,>=1.6.3->tensorboard>=2.9.1->stable-baselines3[extra]>=2.0.0.0a4) (0.4.8)\n",
      "Requirement already satisfied: oauthlib>=3.0.0 in /usr/lib/python3/dist-packages (from requests-oauthlib>=0.7.0->google-auth-oauthlib<2,>=0.5->tensorboard>=2.9.1->stable-baselines3[extra]>=2.0.0.0a4) (3.2.0)\n",
      "Note: you may need to restart the kernel to use updated packages.\n"
     ]
    }
   ],
   "source": [
    "# Installing dependencies\n",
    "\n",
    "!apt-get install ffmpeg freeglut3-dev xvfb\n",
    "%pip install \"stable-baselines3[extra]>=2.0.0.0a4\""
   ]
  },
  {
   "cell_type": "markdown",
   "metadata": {},
   "source": [
    "# Imports\n",
    "\n",
    "The Stable-Baselines3 environments follows [gym interfaces](https://stable-baselines3.readthedocs.io/en/master/guide/custom_env.html) .\n",
    "\n",
    "\n",
    "[List of available environments](https://gymnasium.farama.org/environments/classic_control/)\n",
    "\n",
    "Not all algorithms can work with all action spaces, you can find more in this [recap table](https://stable-baselines3.readthedocs.io/en/master/guide/algos.html)"
   ]
  },
  {
   "cell_type": "code",
   "execution_count": 12,
   "metadata": {},
   "outputs": [],
   "source": [
    "import gymnasium as gym\n",
    "import numpy as np\n",
    "\n",
    "# First thing is to select and import the RL model.\n",
    "# You can check the Stable Baselines 3 Docs to know what model you can use on which problem\n",
    "from stable_baselines3 import PPO\n",
    "\n",
    "# Import the policy class that will be used to create the networks \n",
    "from stable_baselines3.ppo.policies import MlpPolicy"
   ]
  },
  {
   "cell_type": "markdown",
   "metadata": {},
   "source": [
    "# Create Gym env and instantiate the agent\n",
    "\n",
    "We will use [CartPole environment](https://gymnasium.farama.org/environments/classic_control/cart_pole/), the pendulum classic control problem.\n",
    "\n",
    "\"A pole is attached by an un-actuated joint to a cart, which moves along a frictionless track. The system is controlled by applying a force of +1 or -1 to the cart. The pendulum starts upright, and the goal is to prevent it from falling over. A reward of +1 is provided for every timestep that the pole remains upright. \"\n",
    "\n",
    "\n",
    "We chose the MlpPolicy because the observation of the CartPole task is a feature vector, not images.\n",
    "\n",
    "The type of action to use (discrete/continuous) will be automatically deduced from the environment action space\n",
    "\n",
    "Here we are using the [Proximal Policy Optimization](https://stable-baselines3.readthedocs.io/en/master/modules/ppo.html) algorithm, which is an Actor-Critic method: it uses a value function to improve the policy gradient descent (by reducing the variance).\n",
    "\n",
    "It combines ideas from [A2C](https://stable-baselines3.readthedocs.io/en/master/modules/a2c.html) (having multiple workers and using an entropy bonus for exploration) and [TRPO](https://stable-baselines.readthedocs.io/en/master/modules/trpo.html) (it uses a trust region to improve stability and avoid catastrophic drops in performance).\n",
    "\n",
    "PPO is an on-policy algorithm, which means that the trajectories used to update the networks must be collected using the latest policy.\n",
    "It is usually less sample efficient than off-policy alorithms like [DQN](https://stable-baselines.readthedocs.io/en/master/modules/dqn.html), [SAC](https://stable-baselines3.readthedocs.io/en/master/modules/sac.html) or [TD3](https://stable-baselines3.readthedocs.io/en/master/modules/td3.html), but is much faster regarding wall-clock time.\n"
   ]
  },
  {
   "cell_type": "code",
   "execution_count": 22,
   "metadata": {},
   "outputs": [],
   "source": [
    "env = gym.make('CartPole-v1', render_mode=\"\")\n",
    "\n",
    "model = PPO(MlpPolicy, env, verbose=0)"
   ]
  },
  {
   "cell_type": "code",
   "execution_count": 25,
   "metadata": {},
   "outputs": [],
   "source": [
    "# Create a helper function to evaluate the agent\n",
    "\n",
    "from stable_baselines3.common.base_class import BaseAlgorithm\n",
    "import numpy as np\n",
    "\n",
    "def evaluate(\n",
    "  model: BaseAlgorithm,\n",
    "  num_episodes: int = 100,\n",
    "  deterministic: bool = True,\n",
    ") -> float:\n",
    "  \"\"\"\n",
    "    Evaluate an RL agent for `num_episodes`.\n",
    "\n",
    "    :param model: the RL Agent\n",
    "    :param env: the gym Environment\n",
    "    :param num_episodes: number of episodes to evaluate it\n",
    "    :param deterministic: Whether to use deterministic or stochastic actions\n",
    "    :return: Mean reward for the last `num_episodes`\n",
    "  \"\"\"\n",
    "  \n",
    "  # This function just work for single environment\n",
    "  vec_env = model.get_env()\n",
    "\n",
    "  # Get the observations\n",
    "  obs = vec_env.reset()\n",
    "  print(\"Observations\", obs)\n",
    "  \n",
    "  all_episode_rewards = []\n",
    "  \n",
    "  for i in range(num_episodes):\n",
    "    episode_rewards = []\n",
    "    done = False\n",
    "    \n",
    "    while not done:\n",
    "      action, _states = model.predict(obs, deterministic=deterministic)\n",
    "      \n",
    "      obs, reward, done, _info = vec_env.step(action)\n",
    "      episode_rewards.append(reward)\n",
    "    \n",
    "    all_episode_rewards.append(sum(episode_rewards))\n",
    "    \n",
    "  mean_episode_reward = np.mean(all_episode_rewards)\n",
    "  print(f\"Mean episode reward: {mean_episode_reward:.2f} - {num_episodes} episodes\")\n",
    "  return mean_episode_reward"
   ]
  },
  {
   "cell_type": "code",
   "execution_count": 26,
   "metadata": {},
   "outputs": [
    {
     "name": "stdout",
     "output_type": "stream",
     "text": [
      "Observations [[-0.00556318  0.00632022 -0.03088834 -0.03041439]]\n",
      "Mean episode reward: 9.02 - 100 episodes\n"
     ]
    }
   ],
   "source": [
    "# Let's evaluate the un-trained agent, like a random agent\n",
    "\n",
    "mean_reward_before_training = evaluate(model, num_episodes=100, deterministic=True)"
   ]
  },
  {
   "cell_type": "code",
   "execution_count": 27,
   "metadata": {},
   "outputs": [
    {
     "name": "stdout",
     "output_type": "stream",
     "text": [
      "Mean reward:8.94 +/- 0.70\n"
     ]
    }
   ],
   "source": [
    "# Stable-Baselines provides a helper\n",
    "\n",
    "from stable_baselines3.common.evaluation import evaluate_policy\n",
    "\n",
    "mean_reward, std_reward = evaluate_policy(model, env, n_eval_episodes=100, warn=False)\n",
    "\n",
    "print(f\"Mean reward:{mean_reward:.2f} +/- {std_reward:.2f}\")"
   ]
  },
  {
   "cell_type": "markdown",
   "metadata": {},
   "source": [
    "Train the agent and evaluate it"
   ]
  },
  {
   "cell_type": "code",
   "execution_count": 29,
   "metadata": {},
   "outputs": [
    {
     "data": {
      "text/plain": [
       "<stable_baselines3.ppo.ppo.PPO at 0x7fbc5cc03f70>"
      ]
     },
     "execution_count": 29,
     "metadata": {},
     "output_type": "execute_result"
    }
   ],
   "source": [
    "# Training the agente for 10000 steps\n",
    "model.learn(total_timesteps=50_000)"
   ]
  },
  {
   "cell_type": "code",
   "execution_count": 30,
   "metadata": {},
   "outputs": [
    {
     "name": "stdout",
     "output_type": "stream",
     "text": [
      "Mean reward: 500.00 +/- 0.00\n"
     ]
    }
   ],
   "source": [
    "# Evaluate the trained agent\n",
    "mean_reward, std_reward = evaluate_policy(model, env, n_eval_episodes=100, warn=False)\n",
    "\n",
    "print(f\"Mean reward: {mean_reward:.2f} +/- {std_reward:.2f}\")"
   ]
  },
  {
   "cell_type": "code",
   "execution_count": 31,
   "metadata": {},
   "outputs": [
    {
     "data": {
      "text/plain": [
       "array([[[255, 255, 255],\n",
       "        [255, 255, 255],\n",
       "        [255, 255, 255],\n",
       "        ...,\n",
       "        [255, 255, 255],\n",
       "        [255, 255, 255],\n",
       "        [255, 255, 255]],\n",
       "\n",
       "       [[255, 255, 255],\n",
       "        [255, 255, 255],\n",
       "        [255, 255, 255],\n",
       "        ...,\n",
       "        [255, 255, 255],\n",
       "        [255, 255, 255],\n",
       "        [255, 255, 255]],\n",
       "\n",
       "       [[255, 255, 255],\n",
       "        [255, 255, 255],\n",
       "        [255, 255, 255],\n",
       "        ...,\n",
       "        [255, 255, 255],\n",
       "        [255, 255, 255],\n",
       "        [255, 255, 255]],\n",
       "\n",
       "       ...,\n",
       "\n",
       "       [[255, 255, 255],\n",
       "        [255, 255, 255],\n",
       "        [255, 255, 255],\n",
       "        ...,\n",
       "        [255, 255, 255],\n",
       "        [255, 255, 255],\n",
       "        [255, 255, 255]],\n",
       "\n",
       "       [[255, 255, 255],\n",
       "        [255, 255, 255],\n",
       "        [255, 255, 255],\n",
       "        ...,\n",
       "        [255, 255, 255],\n",
       "        [255, 255, 255],\n",
       "        [255, 255, 255]],\n",
       "\n",
       "       [[255, 255, 255],\n",
       "        [255, 255, 255],\n",
       "        [255, 255, 255],\n",
       "        ...,\n",
       "        [255, 255, 255],\n",
       "        [255, 255, 255],\n",
       "        [255, 255, 255]]], dtype=uint8)"
      ]
     },
     "execution_count": 31,
     "metadata": {},
     "output_type": "execute_result"
    }
   ],
   "source": [
    "env.render()"
   ]
  },
  {
   "cell_type": "code",
   "execution_count": null,
   "metadata": {},
   "outputs": [],
   "source": []
  }
 ],
 "metadata": {
  "kernelspec": {
   "display_name": "Python 3",
   "language": "python",
   "name": "python3"
  },
  "language_info": {
   "codemirror_mode": {
    "name": "ipython",
    "version": 3
   },
   "file_extension": ".py",
   "mimetype": "text/x-python",
   "name": "python",
   "nbconvert_exporter": "python",
   "pygments_lexer": "ipython3",
   "version": "3.10.12"
  }
 },
 "nbformat": 4,
 "nbformat_minor": 2
}
